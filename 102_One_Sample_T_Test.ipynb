{
 "cells": [
  {
   "cell_type": "code",
   "execution_count": 1,
   "id": "a94d6a07",
   "metadata": {},
   "outputs": [
    {
     "data": {
      "text/html": [
       "<style>.container { width:100% !important; }</style>"
      ],
      "text/plain": [
       "<IPython.core.display.HTML object>"
      ]
     },
     "metadata": {},
     "output_type": "display_data"
    }
   ],
   "source": [
    "import pandas as pd\n",
    "import numpy as np\n",
    "import matplotlib.pyplot as plt\n",
    "from scipy.stats import ttest_1samp, norm\n",
    "\n",
    "from IPython.display import display, HTML\n",
    "display(HTML(\"<style>.container { width:100% !important; }</style>\"))"
   ]
  },
  {
   "cell_type": "code",
   "execution_count": 2,
   "id": "03414a71",
   "metadata": {},
   "outputs": [],
   "source": [
    "population = norm.rvs(loc=500, scale = 100, size = 1000, random_state =42).astype(int) \n",
    "#This allows us to create random variables in normal distribution #500 is the mean, scale is STDV\n",
    "#Astype int allows us to deal with whole numbers"
   ]
  },
  {
   "cell_type": "code",
   "execution_count": 3,
   "id": "a9f89dce",
   "metadata": {},
   "outputs": [
    {
     "data": {
      "text/plain": [
       "array([549, 486, 564, 652, 476, 476, 657, 576, 453, 554, 453, 453, 524,\n",
       "       308, 327, 443, 398, 531, 409, 358, 646, 477, 506, 357, 445, 511,\n",
       "       384, 537, 439, 470, 439, 685, 498, 394, 582, 377, 520, 304, 367,\n",
       "       519, 573, 517, 488, 469, 352, 428, 453, 605, 534, 323, 532, 461,\n",
       "       432, 561, 603, 593, 416, 469, 533, 597, 452, 481, 389, 380, 581,\n",
       "       635, 492, 600, 536, 435, 536, 653, 496, 656, 238, 582, 508, 470,\n",
       "       509, 301, 478, 535, 647, 448, 419, 449, 591, 532, 447, 551, 509,\n",
       "       596, 429, 467, 460, 353, 529, 526, 500, 476, 358, 457, 465, 419,\n",
       "       483, 540, 688, 517, 525, 492, 308, 497, 506, 746, 480, 530, 496,\n",
       "       383, 614, 575, 579, 409, 640, 359, 558, 719, 400, 443, 509, 449,\n",
       "       344, 506, 393, 547, 408, 654, 421, 467, 581, 376, 522, 630, 339,\n",
       "       518, 525, 578, 376, 367, 552, 529, 525, 534, 431, 523, 529, 428,\n",
       "       686, 547, 380, 565, 402, 578, 615, 417, 596, 541, 582, 689, 475,\n",
       "       424, 411, 418, 492, 534, 527, 582, 501, 645, 473, 772, 562, 414,\n",
       "       392, 548, 477, 571, 547, 492, 415, 348, 455, 585, 521, 375, 517,\n",
       "       538, 411, 515, 505, 385, 535, 556, 608, 605, 362, 406, 551, 551,\n",
       "       551, 885, 557, 613, 595, 565, 468, 575, 422, 476, 451, 508, 731,\n",
       "       313, 568, 338, 452, 608, 506, 392, 428, 567, 426, 521, 504, 434,\n",
       "       714, 563, 297, 518, 433, 585, 420, 488, 550, 586, 379, 466, 452,\n",
       "       434, 676, 540, 373, 591, 712, 603, 348, 451, 626, 429, 544, 577,\n",
       "       407, 494, 175, 397, 474, 375, 663, 356, 455, 513, 644, 356, 616,\n",
       "       501, 401, 546, 519, 439, 506, 461, 511, 566, 658, 376, 713, 304,\n",
       "       484, 558, 528, 437, 479, 450, 441, 584, 535, 430, 589, 530, 581,\n",
       "       562, 417, 443, 574, 561, 497, 511, 627, 440, 554, 479, 478, 609,\n",
       "       582, 581, 630, 502, 568, 468, 532, 486, 509, 559, 418, 709, 399,\n",
       "       378, 615, 579, 562, 562, 498, 410, 507, 432, 597, 485, 417, 467,\n",
       "       541, 443, 417, 524, 524, 449, 452, 523, 355, 359, 428, 478, 531,\n",
       "       647, 585, 484, 498, 399, 498, 471, 532, 417, 551, 653, 489, 540,\n",
       "       569, 459, 522, 501, 509, 422, 502, 549, 645, 595, 715, 423, 587,\n",
       "       518, 718, 419, 416, 440, 287, 447, 424, 515, 534, 687, 595, 442,\n",
       "       410, 549, 367, 683, 617, 453, 328, 635, 488, 623, 340, 440, 500,\n",
       "       504, 454, 562, 393, 485, 512, 551, 571, 387, 346, 627, 533, 425,\n",
       "       655, 511, 617, 506, 706, 675, 475, 597, 564, 636, 403, 568, 605,\n",
       "       324, 381, 296, 473, 571, 650, 507, 662, 361, 329, 494, 538, 496,\n",
       "       293, 491, 369, 566, 536, 406, 448, 394, 493, 595, 401, 550, 446,\n",
       "       420, 489, 396, 444, 380, 696, 503, 430, 521, 488, 477, 561, 575,\n",
       "       446, 442, 472, 269, 348, 636, 664, 475, 557, 531, 807, 611, 487,\n",
       "       404, 339, 520, 424, 357, 435, 391, 668, 588, 499, 647, 507, 413,\n",
       "       652, 553, 396, 480, 412, 361, 592, 690, 360, 556, 434, 451, 440,\n",
       "       413, 504, 416, 527, 494, 476, 409, 442, 575, 550, 402, 509, 575,\n",
       "       333, 554, 433, 557, 423, 319, 337, 504, 525, 409, 563, 333, 493,\n",
       "       378, 434, 504, 413, 461, 600, 442, 583, 387, 552, 644, 252, 420,\n",
       "       557, 479, 537, 439, 508, 484, 616, 525, 533, 458, 451, 456, 539,\n",
       "       457, 528, 707, 587, 467, 620, 459, 296, 399, 312, 464, 501, 667,\n",
       "       532, 478, 582, 278, 523, 577, 352, 614, 533, 458, 563, 727, 518,\n",
       "       524, 454, 415, 583, 414, 507, 452, 547, 533, 603, 448, 473, 402,\n",
       "       455, 537, 575, 407, 586, 635, 541, 687, 422, 375, 322, 649, 565,\n",
       "       494, 527, 387, 744, 512, 510, 572, 548, 522, 420, 547, 688, 634,\n",
       "       659, 448, 401, 487, 505, 609, 330, 652, 484, 457, 398, 334, 582,\n",
       "       507, 371, 370, 466, 666, 474, 349, 475, 472, 230, 494, 476, 569,\n",
       "       684, 612, 473, 389, 757, 505, 501, 497, 519, 485, 442, 445, 496,\n",
       "       445, 428, 510, 474, 650, 234, 609, 624, 292, 465, 462, 359, 422,\n",
       "       388, 675, 593, 627, 572, 387, 447, 548, 377, 571, 475, 462, 571,\n",
       "       544, 463, 615, 391, 561, 559, 469, 532, 374, 592, 481, 447, 604,\n",
       "       429, 359, 344, 560, 371, 675, 291, 669, 521, 490, 445, 539, 496,\n",
       "       610, 511, 515, 463, 494, 530, 328, 365, 574, 517, 481, 501, 534,\n",
       "       446, 422, 519, 402, 540, 329, 602, 547, 525, 598, 666, 601, 315,\n",
       "       372, 437, 502, 551, 427, 518, 424, 438, 359, 407, 364, 402, 605,\n",
       "       405, 763, 549, 518, 414, 570, 442, 512, 756, 490, 614, 429, 496,\n",
       "       677, 437, 681, 570, 443, 563, 597, 562, 342, 427, 475, 492, 562,\n",
       "       517, 366, 538, 561, 555, 608, 583, 545, 492, 333, 542, 520, 527,\n",
       "       372, 391, 605, 496, 568, 502, 502, 593, 448, 509, 453, 456, 469,\n",
       "       522, 452, 625, 410, 481, 456, 644, 519, 603, 351, 526, 588, 508,\n",
       "       606, 448, 640, 729, 463, 455, 645, 657, 447, 457, 471, 365, 408,\n",
       "       399, 423, 496, 523, 655, 400, 598, 478, 495, 567, 387, 538, 516,\n",
       "       549, 528, 745, 436, 446, 437, 444, 436, 618, 642, 442, 416, 547,\n",
       "       444, 563, 520, 348, 654, 679, 438, 461, 528, 533, 565, 701, 482,\n",
       "       420, 362, 426, 496, 679, 448, 522, 498, 618, 752, 446, 451, 604,\n",
       "       568, 684, 558, 464, 559, 610, 582, 550, 606, 616, 638, 564, 483,\n",
       "       514, 620, 418, 536, 460, 502, 627, 519, 504, 364, 574, 564, 716,\n",
       "       469, 521, 524, 657, 490, 527, 560, 518, 455, 519, 607, 397, 513,\n",
       "       429, 619, 347, 444, 537, 656, 493, 444, 688, 355, 280, 544, 449,\n",
       "       397, 570, 524, 443, 371, 587, 565, 490, 684, 392, 347, 430, 495,\n",
       "       524, 475, 535, 374, 644, 491, 611, 534, 545, 556, 544, 564, 632,\n",
       "       519, 570, 491, 644, 432, 680, 495, 356, 512, 431, 584, 434, 455,\n",
       "       311, 454, 257, 341, 576, 578, 542, 403, 495, 499, 384, 650, 587,\n",
       "       477, 502, 520, 295, 475, 431, 399, 471, 679, 564, 442, 557])"
      ]
     },
     "execution_count": 3,
     "metadata": {},
     "output_type": "execute_result"
    }
   ],
   "source": [
    "population"
   ]
  },
  {
   "cell_type": "code",
   "execution_count": 4,
   "id": "edef1dd8",
   "metadata": {},
   "outputs": [],
   "source": [
    "np.random.seed(42)\n",
    "sample = np.random.choice(population, 250)"
   ]
  },
  {
   "cell_type": "code",
   "execution_count": 5,
   "id": "948fb4f3",
   "metadata": {},
   "outputs": [
    {
     "data": {
      "text/plain": [
       "array([465, 507, 520, 644, 688, 653, 447, 646, 744, 409, 561, 468, 498,\n",
       "       444, 532, 645, 476, 420, 445, 344, 445, 554, 681, 449, 647, 627,\n",
       "       469, 515, 585, 611, 519, 402, 380, 581, 477, 712, 424, 416, 528,\n",
       "       664, 533, 527, 387, 475, 481, 311, 538, 348, 545, 475, 545, 587,\n",
       "       679, 296, 586, 408, 434, 344, 424, 508, 230, 646, 495, 582, 501,\n",
       "       687, 575, 502, 308, 488, 427, 523, 620, 514, 443, 596, 522, 611,\n",
       "       446, 568, 504, 342, 565, 582, 406, 478, 688, 707, 420, 687, 486,\n",
       "       442, 459, 540, 443, 640, 557, 429, 440, 422, 458, 578, 556, 545,\n",
       "       471, 513, 654, 351, 644, 420, 503, 501, 591, 604, 430, 517, 494,\n",
       "       438, 467, 498, 432, 520, 397, 422, 490, 492, 419, 507, 573, 686,\n",
       "       327, 644, 581, 416, 598, 333, 449, 509, 494, 269, 389, 581, 412,\n",
       "       547, 549, 359, 617, 528, 718, 563, 588, 426, 573, 537, 408, 535,\n",
       "       478, 562, 493, 498, 605, 360, 393, 478, 534, 456, 500, 548, 420,\n",
       "       481, 650, 557, 564, 666, 527, 565, 503, 474, 437, 476, 476, 360,\n",
       "       496, 635, 482, 391, 367, 551, 327, 547, 525, 550, 696, 463, 582,\n",
       "       679, 437, 420, 467, 353, 418, 329, 424, 393, 426, 438, 757, 411,\n",
       "       583, 377, 423, 565, 598, 592, 550, 449, 605, 577, 387, 451, 478,\n",
       "       374, 472, 605, 537, 522, 458, 443, 568, 545, 498, 370, 451, 359,\n",
       "       348, 426, 348, 452, 424, 587, 658, 545, 484, 487, 584, 551, 544,\n",
       "       532, 669, 420])"
      ]
     },
     "execution_count": 5,
     "metadata": {},
     "output_type": "execute_result"
    }
   ],
   "source": [
    "sample"
   ]
  },
  {
   "cell_type": "code",
   "execution_count": 7,
   "id": "036571c3",
   "metadata": {},
   "outputs": [
    {
     "data": {
      "image/png": "[encoded data removed]",
      "text/plain": [
       "<Figure size 640x480 with 1 Axes>"
      ]
     },
     "metadata": {},
     "output_type": "display_data"
    }
   ],
   "source": [
    "plt.hist(population, density = True, alpha = 0.5) #Density = True allows for proportion to be shown rather than raw numbers, alpha is for transparency\n",
    "plt.hist(sample, density = True, alpha = 0.5)\n",
    "plt.show()"
   ]
  },
  {
   "cell_type": "code",
   "execution_count": 8,
   "id": "4642581a",
   "metadata": {},
   "outputs": [
    {
     "name": "stdout",
     "output_type": "stream",
     "text": [
      "501.43 503.344\n"
     ]
    }
   ],
   "source": [
    "population_mean = population.mean()\n",
    "sample_mean = sample.mean()\n",
    "print(population_mean, sample_mean)"
   ]
  },
  {
   "cell_type": "code",
   "execution_count": 9,
   "id": "ace072d3",
   "metadata": {},
   "outputs": [],
   "source": [
    "#These means are relatively close\n",
    "\n",
    "null_hypothesis = \"The mean of the sample is equal to the mean of the population\"\n",
    "alternate_hypothesis = \"The mean of the sample is different ot the mean of the population\"\n",
    "acceptance_criteria = 0.05"
   ]
  },
  {
   "cell_type": "code",
   "execution_count": 10,
   "id": "57ca0c30",
   "metadata": {},
   "outputs": [
    {
     "name": "stdout",
     "output_type": "stream",
     "text": [
      "0.30898519995058266 0.7575911611764024\n"
     ]
    }
   ],
   "source": [
    "#Execute the hypothesis test\n",
    "\n",
    "t_statistic, p_value = ttest_1samp(sample, population_mean)\n",
    "print(t_statistic, p_value)"
   ]
  },
  {
   "cell_type": "code",
   "execution_count": 11,
   "id": "8489292d",
   "metadata": {},
   "outputs": [
    {
     "name": "stdout",
     "output_type": "stream",
     "text": [
      "As our p-value of 0.7575911611764024 is higher than our acceptance criteria 0.05 - we accept the null hypothesis, and conclude that: The mean of the sample is equal to the mean of the population\n"
     ]
    }
   ],
   "source": [
    "#Print the results\n",
    "if p_value <= acceptance_criteria:\n",
    "    print(f\"As our p-value of {p_value} is lower than our acceptance criteria of {acceptance_criteria} - we reject the null hypothesis, and conclude that: {alternate_hypothesis}\")\n",
    "else:\n",
    "    print(f\"As our p-value of {p_value} is higher than our acceptance criteria {acceptance_criteria} - we accept the null hypothesis, and conclude that: {null_hypothesis}\")\n"
   ]
  },
  {
   "cell_type": "code",
   "execution_count": null,
   "id": "5cce6ebe",
   "metadata": {},
   "outputs": [],
   "source": []
  }
 ],
 "metadata": {
  "kernelspec": {
   "display_name": "Python 3 (ipykernel)",
   "language": "python",
   "name": "python3"
  },
  "language_info": {
   "codemirror_mode": {
    "name": "ipython",
    "version": 3
   },
   "file_extension": ".py",
   "mimetype": "text/x-python",
   "name": "python",
   "nbconvert_exporter": "python",
   "pygments_lexer": "ipython3",
   "version": "3.11.5"
  }
 },
 "nbformat": 4,
 "nbformat_minor": 5
}
